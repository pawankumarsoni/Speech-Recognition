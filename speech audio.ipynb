{
 "cells": [
  {
   "cell_type": "code",
   "execution_count": 4,
   "metadata": {},
   "outputs": [
    {
     "name": "stdout",
     "output_type": "stream",
     "text": [
      "say :\n",
      "command\n",
      "which command you want to run\n",
      "say :\n",
      "time time date\n",
      "The current date is: 17/Sep/2018 \n",
      "Enter the new date: (dd-mm-yy) \n"
     ]
    }
   ],
   "source": [
    "import pyttsx3\n",
    "import os \n",
    "import subprocess as sp\n",
    "from time import gmtime, strftime\n",
    "engine = pyttsx3.init()\n",
    "engine.say('hi this is pawan')\n",
    "engine.runAndWait()\n",
    "\n",
    "import speech_recognition as sr\n",
    "r = sr.Recognizer()\n",
    "mic = sr.Microphone()\n",
    "with mic as source:\n",
    "    r.adjust_for_ambient_noise(source, duration=0.5)\n",
    "    engine.say(\"what you want to do \")\n",
    "    engine.runAndWait()\n",
    "    print(\"say :\")\n",
    "    audio = r.listen(source)\n",
    "    \n",
    "try:\n",
    "    # text = r.recognize_sphinx(audio)\n",
    "    text = r.recognize_google(audio)\n",
    "    print(text)\n",
    "    engine.say(text)\n",
    "    engine.runAndWait()\n",
    "    if \"command\" in text:\n",
    "        print(\"which command you want to run\")\n",
    "        engine.say(\"which command you want to run\")\n",
    "        engine.runAndWait()\n",
    "        with mic as source:\n",
    "            r.adjust_for_ambient_noise(source, duration=0.5)\n",
    "            print(\"say :\")\n",
    "            audio = r.listen(source)\n",
    "            text = r.recognize_google(audio)\n",
    "            print(text)\n",
    "            engine.say(text)\n",
    "            engine.runAndWait()\n",
    "            if \"date\" in text:\n",
    "                t=sp.getoutput(\"date\")\n",
    "                engine.say(t)\n",
    "                engine.runAndWait()\n",
    "                print(t)\n",
    "            elif \"time\" in text:\n",
    "                t=strftime(\"%Y-%m-%d %H:%M:%S\")\n",
    "                engine.say(t)\n",
    "                engine.runAndWait()\n",
    "                print(t)\n",
    "            \n",
    "\n",
    "except sr.UnknownValueError:\n",
    "\tprint(\"Google Speech Recognition could not understand audio\")\n",
    "\n",
    "except sr.RequestError as e:\n",
    "    print(\"Could not request results from Google Speech Recognition service; {0}\".format(e))\n",
    "    \n"
   ]
  },
  {
   "cell_type": "code",
   "execution_count": null,
   "metadata": {},
   "outputs": [],
   "source": []
  }
 ],
 "metadata": {
  "kernelspec": {
   "display_name": "Python 3",
   "language": "python",
   "name": "python3"
  },
  "language_info": {
   "codemirror_mode": {
    "name": "ipython",
    "version": 3
   },
   "file_extension": ".py",
   "mimetype": "text/x-python",
   "name": "python",
   "nbconvert_exporter": "python",
   "pygments_lexer": "ipython3",
   "version": "3.6.4"
  }
 },
 "nbformat": 4,
 "nbformat_minor": 2
}
